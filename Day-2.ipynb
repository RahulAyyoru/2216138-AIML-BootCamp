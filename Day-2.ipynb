{
 "cells": [
  {
   "cell_type": "code",
   "execution_count": 2,
   "id": "31c733c3",
   "metadata": {},
   "outputs": [
    {
     "name": "stdout",
     "output_type": "stream",
     "text": [
      "[17, 15, 4]\n",
      "[5, 6, 6]\n",
      "[12, 11, 16]\n"
     ]
    }
   ],
   "source": [
    "#nested loops\n",
    "\n",
    "x=[[12,7,3],\n",
    "  [4,5,6],\n",
    "  [7,8,9]]\n",
    "\n",
    "y=[[5,8,1],\n",
    "   [1,1,0],\n",
    "   [5,3,7]]\n",
    "\n",
    "res=[[0,0,0],[0,0,0],[0,0,0]]\n",
    "\n",
    "for i in range(len(x)):\n",
    "    for j in range(len(x[0])):\n",
    "        res[i][j]=x[i][j]+y[i][j]\n",
    "for r in res:\n",
    "    print(r)"
   ]
  },
  {
   "cell_type": "code",
   "execution_count": 5,
   "id": "7353ff57",
   "metadata": {},
   "outputs": [
    {
     "name": "stdout",
     "output_type": "stream",
     "text": [
      "Enter the last table u want:3\n",
      "TABLE 1\n",
      "1*1=1\n",
      "1*2=2\n",
      "1*3=3\n",
      "1*4=4\n",
      "1*5=5\n",
      "1*6=6\n",
      "1*7=7\n",
      "1*8=8\n",
      "1*9=9\n",
      "1*10=10\n",
      "----------------------\n",
      "TABLE 2\n",
      "2*1=2\n",
      "2*2=4\n",
      "2*3=6\n",
      "2*4=8\n",
      "2*5=10\n",
      "2*6=12\n",
      "2*7=14\n",
      "2*8=16\n",
      "2*9=18\n",
      "2*10=20\n",
      "----------------------\n",
      "TABLE 3\n",
      "3*1=3\n",
      "3*2=6\n",
      "3*3=9\n",
      "3*4=12\n",
      "3*5=15\n",
      "3*6=18\n",
      "3*7=21\n",
      "3*8=24\n",
      "3*9=27\n",
      "3*10=30\n",
      "----------------------\n"
     ]
    }
   ],
   "source": [
    "#Printing upto n tables\n",
    "num=int(input(\"Enter the last table u want:\"))\n",
    "i=1\n",
    "while(i<=num):\n",
    "    print(f\"TABLE {i}\") #raw string\n",
    "    j=1\n",
    "    while(j<=10):\n",
    "        print(f\"{i}*{j}={i*j}\")\n",
    "        j=j+1\n",
    "    print(\"----------------------\")\n",
    "    i+=1"
   ]
  },
  {
   "cell_type": "code",
   "execution_count": 9,
   "id": "1cd9f9b7",
   "metadata": {},
   "outputs": [
    {
     "name": "stdout",
     "output_type": "stream",
     "text": [
      "Current letter: p\n",
      "Current letter: y\n",
      "Current letter: t\n",
      "\n",
      "\n",
      "Current value: 10\n",
      "Current value: 9\n",
      "Current value: 8\n",
      "Current value: 7\n",
      "Current value: 6\n",
      "Current value: 5\n",
      "Current value: 4\n",
      "Current value: 3\n",
      "Current value: 2\n",
      "Current value: 1\n",
      "\n",
      "\n"
     ]
    }
   ],
   "source": [
    "#Control stmts\n",
    "#break\n",
    "\n",
    "for l in 'python':\n",
    "    if l =='h':\n",
    "        break\n",
    "    print(\"Current letter:\",l)\n",
    "print(\"\\n\")\n",
    "\n",
    "#continue\n",
    "int1=10\n",
    "while(int1>0):\n",
    "    print(\"Current value:\",int1)\n",
    "    int1-=1\n",
    "    if int1==5:\n",
    "        continue\n",
    "print(\"\\n\")"
   ]
  },
  {
   "cell_type": "code",
   "execution_count": 12,
   "id": "7f399249",
   "metadata": {},
   "outputs": [
    {
     "name": "stdout",
     "output_type": "stream",
     "text": [
      "p\n",
      "y\n",
      "t\n",
      "This is pass block\n",
      "h\n",
      "o\n",
      "n\n",
      "\n",
      "\n",
      "Current value: 10\n",
      "Current value: 9\n",
      "Current value: 8\n",
      "Current value: 7\n",
      "Current value: 6\n",
      "Current value: 5\n",
      "Current value: 4\n",
      "Current value: 3\n",
      "Current value: 2\n",
      "Current value: 1\n",
      "\n",
      "\n"
     ]
    }
   ],
   "source": [
    "#Control stmts\n",
    "#break\n",
    "\n",
    "for l in 'python':\n",
    "    if l =='h':\n",
    "        pass\n",
    "        print(\"This is pass block\")\n",
    "    print(l)\n",
    "print(\"\\n\")\n",
    "\n",
    "int1=10\n",
    "while(int1>0):\n",
    "    print(\"Current value:\",int1)\n",
    "    int1-=1\n",
    "    if int1==5:\n",
    "        continue\n",
    "print(\"\\n\")"
   ]
  },
  {
   "cell_type": "code",
   "execution_count": 19,
   "id": "a9062738",
   "metadata": {},
   "outputs": [
    {
     "name": "stdout",
     "output_type": "stream",
     "text": [
      "Enter the number:121\n",
      "Its Palindrome\n"
     ]
    }
   ],
   "source": [
    "n=input(\"Enter the number:\")\n",
    "m=n[::-1]\n",
    "if(n==m):\n",
    "    print(\"Its Palindrome\")\n",
    "else:\n",
    "    print(\"Not a palindrome\")"
   ]
  },
  {
   "cell_type": "code",
   "execution_count": 36,
   "id": "2ea0eb08",
   "metadata": {},
   "outputs": [
    {
     "name": "stdout",
     "output_type": "stream",
     "text": [
      "0 =Palindrome\n",
      "1 =Palindrome\n",
      "2 =Palindrome\n",
      "3 =Palindrome\n",
      "4 =Palindrome\n",
      "5 =Palindrome\n",
      "6 =Palindrome\n",
      "7 =Palindrome\n",
      "8 =Palindrome\n",
      "9 =Palindrome\n",
      "11 =Palindrome\n",
      "22 =Palindrome\n",
      "33 =Palindrome\n",
      "44 =Palindrome\n",
      "55 =Palindrome\n",
      "66 =Palindrome\n",
      "77 =Palindrome\n",
      "88 =Palindrome\n",
      "99 =Palindrome\n"
     ]
    }
   ],
   "source": [
    "for n in range(100):\n",
    "    m=str(n)\n",
    "    if(m==m[::-1]):\n",
    "        print(n,\"=Palindrome\")"
   ]
  },
  {
   "cell_type": "code",
   "execution_count": 42,
   "id": "b2501c0a",
   "metadata": {},
   "outputs": [
    {
     "name": "stdout",
     "output_type": "stream",
     "text": [
      "[0, 2, 4, 6, 8]\n",
      "[1, 3, 5, 7, 9]\n"
     ]
    }
   ],
   "source": [
    "l=[1,2,3,4,5,6,7,8,9,10]\n",
    "e=[]\n",
    "o=[]\n",
    "for i in range(len(l)):\n",
    "    if i%2==0:\n",
    "        e.append(i)\n",
    "    else:\n",
    "        o.append(i)\n",
    "print(e)\n",
    "print(o)"
   ]
  },
  {
   "cell_type": "code",
   "execution_count": 51,
   "id": "56ff8ec3",
   "metadata": {},
   "outputs": [
    {
     "name": "stdout",
     "output_type": "stream",
     "text": [
      "['Finland', 'Ireland']\n"
     ]
    }
   ],
   "source": [
    "'''Write a python program that generates desired output i.e,\n",
    "from countries list select out the country names that contain\n",
    "string “and”\n",
    "\n",
    "Countries_list=[“Finland”,”Germany”,”Sweden”,”Ireland”,”Turkey”]\n",
    "Output: [“Finland”,”Ireland”]'''\n",
    "\n",
    "c=[\"Finland\",\"Germany\",\"Sweden\",\"Ireland\",\"Turkey\"]\n",
    "output=[]\n",
    "for i in c:\n",
    "    if 'and' in i:\n",
    "        output.append(i)\n",
    "print(output)"
   ]
  },
  {
   "cell_type": "code",
   "execution_count": 59,
   "id": "36d6216d",
   "metadata": {},
   "outputs": [
    {
     "name": "stdout",
     "output_type": "stream",
     "text": [
      "Enter your marks93\n",
      "Grade=O\n"
     ]
    }
   ],
   "source": [
    "'''Write a python program that print respective grades of student:\n",
    "Grade – Outstanding  for marks>=90\n",
    "Grade A+ for marks >=80, <90\n",
    "Grade A for marks >=70, <80\n",
    "Grade B for marks >=60 and <70\n",
    "\n",
    "<60 Grade C'''\n",
    "\n",
    "marks=int(input(\"Enter your marks\"))\n",
    "if marks >=90 and marks<=100:\n",
    "    print(\"Grade=O\")\n",
    "elif marks >=80 and marks<90:\n",
    "    print(\"Grade=A+\")\n",
    "elif marks >=70 and marks<80:\n",
    "    print(\"Grade=A\")\n",
    "elif marks >=60 and marks<70:\n",
    "    print(\"Grade=B\")\n",
    "elif marks<60:\n",
    "    print(\"Grade=C\")\n",
    "else:\n",
    "    print(\"Enter valid marks\")"
   ]
  },
  {
   "cell_type": "code",
   "execution_count": 74,
   "id": "12faa17a",
   "metadata": {},
   "outputs": [
    {
     "name": "stdout",
     "output_type": "stream",
     "text": [
      "['D', 'i', 'T', 'a', 'G', 'a', 'A', 'P', 'K', 'a']\n",
      "dItAgAapkA\n"
     ]
    }
   ],
   "source": [
    "'''Create a list with name state list with 5 elements\n",
    "State_list = [“Delhi”,”Telangana”,”Goa”,”AP”,”Kerala”]\n",
    "Write a python program that extract first and last characters of each item and print in desired format.\n",
    "Input: [“Delhi”,”Telangana”,”Goa”,”AP”,”Kerala”\n",
    "Output: dItAgAaOkA '''\n",
    "\n",
    "inp=[\"Delhi\",\"Telangana\",\"Goa\",\"AP\",\"Kerala\"]\n",
    "out=[]\n",
    "for s in inp:\n",
    "    out.append(s[0])\n",
    "    out.append(s[len(s)-1])\n",
    "print(out)\n",
    "str=\"\".join(out)\n",
    "#print(str)\n",
    "print(str.swapcase())"
   ]
  },
  {
   "cell_type": "code",
   "execution_count": 72,
   "id": "fc7770c5",
   "metadata": {},
   "outputs": [
    {
     "name": "stdout",
     "output_type": "stream",
     "text": [
      "dItAgAapkA\n"
     ]
    }
   ],
   "source": [
    "'''Create a list with name state list with 5 elements\n",
    "State_list = [“Delhi”,”Telangana”,”Goa”,”AP”,”Kerala”]\n",
    "Write a python program that extract first and last characters of each item and print in desired format.\n",
    "Input: [“Delhi”,”Telangana”,”Goa”,”AP”,”Kerala”\n",
    "Output: dItAgAaOkA '''\n",
    "\n",
    "inp=[\"Delhi\",\"Telangana\",\"Goa\",\"AP\",\"Kerala\"]\n",
    "str=\"\"\n",
    "for i in inp:\n",
    "    str+=i[0].swapcase()+i[-1].swapcase()\n",
    "print(str)"
   ]
  },
  {
   "cell_type": "code",
   "execution_count": 6,
   "id": "6386849c",
   "metadata": {},
   "outputs": [
    {
     "name": "stdout",
     "output_type": "stream",
     "text": [
      "Hello,\t RAHUL \tGM\n"
     ]
    }
   ],
   "source": [
    "#user defined function\n",
    "def greet(name):\n",
    "    print(f\"Hello,\\t {name} \\tGM\")\n",
    "greet(\"RAHUL\")"
   ]
  },
  {
   "cell_type": "code",
   "execution_count": 10,
   "id": "5ef28127",
   "metadata": {},
   "outputs": [
    {
     "name": "stdout",
     "output_type": "stream",
     "text": [
      "{'apples': 10, 'oranges': 20, 'bananas': 30}\n"
     ]
    }
   ],
   "source": [
    "#arbitrary keyword\n",
    "def key_arg(**kwargs):\n",
    "    return kwargs\n",
    "my_dict=key_arg(apples=10,oranges=20,bananas=30)\n",
    "print(my_dict)"
   ]
  },
  {
   "cell_type": "code",
   "execution_count": null,
   "id": "8f03cf6d",
   "metadata": {},
   "outputs": [],
   "source": []
  },
  {
   "cell_type": "code",
   "execution_count": 18,
   "id": "aba84f6a",
   "metadata": {},
   "outputs": [
    {
     "name": "stdout",
     "output_type": "stream",
     "text": [
      "5\n",
      "8\n"
     ]
    }
   ],
   "source": [
    "#lambda\n",
    "\n",
    "res=lambda x:x+1\n",
    "print(res(4))\n",
    "\n",
    "print((lambda x,y:x**y)(2,3))"
   ]
  },
  {
   "cell_type": "code",
   "execution_count": 20,
   "id": "0febb3bf",
   "metadata": {},
   "outputs": [],
   "source": [
    "# mapping\n",
    "\n",
    "li=[1,2,3,4,5]\n",
    "#res=lambdax:x+2\n",
    "#print(res(li))"
   ]
  },
  {
   "cell_type": "code",
   "execution_count": 24,
   "id": "936f101e",
   "metadata": {},
   "outputs": [
    {
     "name": "stdout",
     "output_type": "stream",
     "text": [
      "[3, 4, 5, 6, 7]\n",
      "[3, 4, 5, 6, 7]\n",
      "[3, 4, 5, 6, 7]\n"
     ]
    }
   ],
   "source": [
    "def inc(num):\n",
    "    return num+2\n",
    "res_list=list(map(inc,li))\n",
    "print(res_list)\n",
    "\n",
    "res_list1=list(map(lambda x:x+2,li))\n",
    "print(res_list1)\n",
    "\n",
    "print(list(map(lambda x:x+2,li)))"
   ]
  },
  {
   "cell_type": "code",
   "execution_count": 25,
   "id": "105c820d",
   "metadata": {},
   "outputs": [
    {
     "name": "stdout",
     "output_type": "stream",
     "text": [
      "[False, True, False, True, False, True, False, True, False, True]\n",
      "[True, False, True, False, True, False, True, False, True, False]\n"
     ]
    }
   ],
   "source": [
    "li=[1,2,3,4,5,6,7,8,9,10]\n",
    "print(list(map(lambda x:x%2==0,li)))\n",
    "print(list(map(lambda x:x%2==1,li)))"
   ]
  },
  {
   "cell_type": "code",
   "execution_count": 32,
   "id": "203ee0a8",
   "metadata": {},
   "outputs": [
    {
     "data": {
      "text/plain": [
       "['Apple', 'Banana', 'Grapes']"
      ]
     },
     "execution_count": 32,
     "metadata": {},
     "output_type": "execute_result"
    }
   ],
   "source": [
    "li=['apple','banana','grapes']\n",
    "list(map(lambda x:x.capitalize(),li)) # or titile()"
   ]
  },
  {
   "cell_type": "code",
   "execution_count": 41,
   "id": "1a2511d8",
   "metadata": {},
   "outputs": [
    {
     "name": "stdout",
     "output_type": "stream",
     "text": [
      "[12, 34, 22, 34, 100]\n"
     ]
    }
   ],
   "source": [
    "#filter\n",
    "\n",
    "def odd_num(n):\n",
    "    if n%2!=0:\n",
    "        return n\n",
    "my_list=[9,26,35,-2,-1,0]\n",
    "list(filter(odd_num,my_list))\n",
    "\n",
    "my_list=[12,34,71,91,83,22,34,99,100]\n",
    "temp=list(filter(lambda x:x%2==0,my_list))\n",
    "print(temp)"
   ]
  },
  {
   "cell_type": "markdown",
   "id": "6e162ada",
   "metadata": {},
   "source": [
    "# module\n"
   ]
  },
  {
   "cell_type": "code",
   "execution_count": 42,
   "id": "c53de8da",
   "metadata": {},
   "outputs": [
    {
     "ename": "FileNotFoundError",
     "evalue": "[WinError 3] The system cannot find the path specified: '/content/hi'",
     "output_type": "error",
     "traceback": [
      "\u001b[1;31m---------------------------------------------------------------------------\u001b[0m",
      "\u001b[1;31mFileNotFoundError\u001b[0m                         Traceback (most recent call last)",
      "Input \u001b[1;32mIn [42]\u001b[0m, in \u001b[0;36m<cell line: 6>\u001b[1;34m()\u001b[0m\n\u001b[0;32m      4\u001b[0m os\u001b[38;5;241m.\u001b[39mgetcwd()\n\u001b[0;32m      5\u001b[0m os\u001b[38;5;241m.\u001b[39mlistdir()\n\u001b[1;32m----> 6\u001b[0m \u001b[43mos\u001b[49m\u001b[38;5;241;43m.\u001b[39;49m\u001b[43mrmdir\u001b[49m\u001b[43m(\u001b[49m\u001b[38;5;124;43m\"\u001b[39;49m\u001b[38;5;124;43m/content/hi\u001b[39;49m\u001b[38;5;124;43m\"\u001b[39;49m\u001b[43m)\u001b[49m\n",
      "\u001b[1;31mFileNotFoundError\u001b[0m: [WinError 3] The system cannot find the path specified: '/content/hi'"
     ]
    }
   ],
   "source": [
    "import os\n",
    "os.mkdir(\"Hi\")\n",
    "os.chdir(\"Hi\")\n",
    "os.getcwd()\n",
    "os.listdir()\n",
    "os.rmdir(\"/content/hi\")"
   ]
  },
  {
   "cell_type": "code",
   "execution_count": 49,
   "id": "4ca28627",
   "metadata": {},
   "outputs": [
    {
     "name": "stdout",
     "output_type": "stream",
     "text": [
      "3.141592653589793\n",
      "2.718281828459045\n",
      "1.7320508075688772\n",
      "7\n",
      "8\n"
     ]
    }
   ],
   "source": [
    "# math module\n",
    "import math as m\n",
    "print(m.pi)\n",
    "print(m.e)\n",
    "print(m.sqrt(3))\n",
    "print(m.floor(7.1))\n",
    "print(m.ceil(7.1))"
   ]
  },
  {
   "cell_type": "code",
   "execution_count": 50,
   "id": "7cb5cff2",
   "metadata": {},
   "outputs": [
    {
     "name": "stdout",
     "output_type": "stream",
     "text": [
      "['C:\\\\Users\\\\Rahul', 'C:\\\\Users\\\\Rahul\\\\anaconda3\\\\python39.zip', 'C:\\\\Users\\\\Rahul\\\\anaconda3\\\\DLLs', 'C:\\\\Users\\\\Rahul\\\\anaconda3\\\\lib', 'C:\\\\Users\\\\Rahul\\\\anaconda3', '', 'C:\\\\Users\\\\Rahul\\\\anaconda3\\\\lib\\\\site-packages', 'C:\\\\Users\\\\Rahul\\\\anaconda3\\\\lib\\\\site-packages\\\\win32', 'C:\\\\Users\\\\Rahul\\\\anaconda3\\\\lib\\\\site-packages\\\\win32\\\\lib', 'C:\\\\Users\\\\Rahul\\\\anaconda3\\\\lib\\\\site-packages\\\\Pythonwin']\n",
      "3.9.12 (main, Apr  4 2022, 05:22:27) [MSC v.1916 64 bit (AMD64)]\n",
      "9223372036854775807\n"
     ]
    }
   ],
   "source": [
    "#sys module\n",
    "import sys\n",
    "print(sys.path)\n",
    "print(sys.version)\n",
    "print(sys.maxsize)"
   ]
  },
  {
   "cell_type": "code",
   "execution_count": 61,
   "id": "e6e59e39",
   "metadata": {},
   "outputs": [
    {
     "name": "stdout",
     "output_type": "stream",
     "text": [
      "3\n",
      "3\n",
      "1\n"
     ]
    }
   ],
   "source": [
    "import statistics as st\n",
    "print(st.mean([1,2,3,4,5]))\n",
    "print(st.median([1,2,3,4,5]))\n",
    "print(st.mode([1,2,3,4,5]))"
   ]
  },
  {
   "cell_type": "code",
   "execution_count": 67,
   "id": "99651a70",
   "metadata": {},
   "outputs": [
    {
     "name": "stdout",
     "output_type": "stream",
     "text": [
      "1655201676.2728543\n",
      "time.struct_time(tm_year=2022, tm_mon=6, tm_mday=14, tm_hour=15, tm_min=44, tm_sec=36, tm_wday=1, tm_yday=165, tm_isdst=0)\n",
      "Tue Jun 14 15:44:36 2022\n",
      "Tue Jun 14 15:44:36 2022\n",
      "None\n"
     ]
    }
   ],
   "source": [
    "#time module\n",
    "import time\n",
    "print(time.time())\n",
    "print(time.localtime())\n",
    "print(time.asctime())\n",
    "print(time.ctime())\n",
    "print(time.sleep(1.5))"
   ]
  },
  {
   "cell_type": "code",
   "execution_count": 74,
   "id": "b6820ef2",
   "metadata": {},
   "outputs": [
    {
     "name": "stdout",
     "output_type": "stream",
     "text": [
      "25\n",
      "1\n",
      "0.5057567000785264\n"
     ]
    }
   ],
   "source": [
    "#random module\n",
    "import random\n",
    "print(random.randrange(1,50))\n",
    "print(random.randint(1,50))\n",
    "print(random.random())"
   ]
  },
  {
   "cell_type": "code",
   "execution_count": 79,
   "id": "598a7b83",
   "metadata": {},
   "outputs": [
    {
     "name": "stdout",
     "output_type": "stream",
     "text": [
      "Guess...!3\n",
      "LOST\n"
     ]
    }
   ],
   "source": [
    "#Game with random module\n",
    "\n",
    "import random\n",
    "g_num=random.randint(0,5)\n",
    "g2_num=int(input(\"Guess...!\"))\n",
    "if g2_num==g_num:\n",
    "    print(\"Hurrah...!\")\n",
    "else:\n",
    "    print(\"LOST\")"
   ]
  },
  {
   "cell_type": "code",
   "execution_count": 91,
   "id": "828fe5ac",
   "metadata": {},
   "outputs": [
    {
     "name": "stdout",
     "output_type": "stream",
     "text": [
      "[1, 2, 6, 7, 78]\n"
     ]
    }
   ],
   "source": [
    "'''Write a python program that remove items that are multiples of 5 from list:li=[1,2,5,6,7,10,15,25,65,78,90]o/p: [1,2,6,7,78]\n",
    "'''\n",
    "li=[1,2,5,6,7,10,15,25,65,78,90]\n",
    "print(list(filter(lambda x:x%5!=0,li)))"
   ]
  },
  {
   "cell_type": "code",
   "execution_count": 111,
   "id": "66a83f13",
   "metadata": {},
   "outputs": [
    {
     "name": "stdout",
     "output_type": "stream",
     "text": [
      "[1, 2, 6, 7, 78]\n"
     ]
    }
   ],
   "source": [
    "li=[1,2,5,6,7,10,15,25,65,78,90]\n",
    "for i in li[:]: # if no ':' then the nxt element will be skipped\n",
    "    if i%5==0:\n",
    "        li.remove(i)\n",
    "print(li)"
   ]
  },
  {
   "cell_type": "code",
   "execution_count": 98,
   "id": "3fa100e2",
   "metadata": {},
   "outputs": [
    {
     "name": "stdout",
     "output_type": "stream",
     "text": [
      "['Apple', 'Avacado', 'Amla']\n"
     ]
    }
   ],
   "source": [
    "'''Write a python program that generates desired output from fruits list. Filter out the fruits names that don’t start with ‘A’\n",
    "Fruit=[“Apple”,”Banana”,”Pear”,”Avacado”,”Orange”,”Amla”]\n",
    "Output: [“Apple”,”Avacado”,”Amla”]'''\n",
    "\n",
    "fruit=[\"Apple\",\"Banana\",\"Pear\",\"Avacado\",\"Orange\",\"Amla\"]\n",
    "res=list(filter(lambda x:x.startswith('A'),fruit))\n",
    "print(res)"
   ]
  },
  {
   "cell_type": "code",
   "execution_count": 102,
   "id": "d1005b9a",
   "metadata": {},
   "outputs": [
    {
     "name": "stdout",
     "output_type": "stream",
     "text": [
      "49\n"
     ]
    }
   ],
   "source": [
    "'''Msg=”Welcome to gradstellar bootcamp”\n",
    "X=”number of occurrences of ‘o’ in msg”\n",
    "Y=”number of occurrences of ‘e’ in msg”\n",
    "Compute (X+Y)2'''\n",
    "\n",
    "msg=\"Welcome to gradstellar bootcamp\"\n",
    "x=msg.count('o')\n",
    "y=msg.count('e')\n",
    "print((x+y)**2)"
   ]
  },
  {
   "cell_type": "code",
   "execution_count": 105,
   "id": "452804b7",
   "metadata": {},
   "outputs": [
    {
     "name": "stdout",
     "output_type": "stream",
     "text": [
      "['apple', 'orange', 'umbrella']\n"
     ]
    }
   ],
   "source": [
    "'''Write python program that filters a list by removing the elements that not start with vowel. \n",
    "I/P: [‘apple’,’orange’,’grapes’,’ball’,’bat’,’umbrella’]\n",
    "O/P: [‘apple’,’orange’,’umbrella’]'''\n",
    "\n",
    "inp=[\"apple\",\"orange\",\"grapes\",\"ball\",\"bat\",\"umbrella\"]\n",
    "print(list(filter(lambda x:x[0] in 'AEIOUaeiou',inp)))\n",
    "    "
   ]
  },
  {
   "cell_type": "code",
   "execution_count": 106,
   "id": "5538b6a6",
   "metadata": {},
   "outputs": [
    {
     "name": "stdout",
     "output_type": "stream",
     "text": [
      "{32, 45, 78, 19, 20, 56}\n"
     ]
    }
   ],
   "source": [
    "'''Write a python program that displays unique element in a given list using function\n",
    "Li=[56,78,32,45,45,45,19,20]\n",
    "O/P: [56,78,32,45,19,20]'''\n",
    "\n",
    "li=[56,78,32,45,45,45,19,20]\n",
    "print(set(li))"
   ]
  },
  {
   "cell_type": "code",
   "execution_count": null,
   "id": "78ef8730",
   "metadata": {},
   "outputs": [],
   "source": []
  }
 ],
 "metadata": {
  "kernelspec": {
   "display_name": "Python 3 (ipykernel)",
   "language": "python",
   "name": "python3"
  },
  "language_info": {
   "codemirror_mode": {
    "name": "ipython",
    "version": 3
   },
   "file_extension": ".py",
   "mimetype": "text/x-python",
   "name": "python",
   "nbconvert_exporter": "python",
   "pygments_lexer": "ipython3",
   "version": "3.9.12"
  }
 },
 "nbformat": 4,
 "nbformat_minor": 5
}
