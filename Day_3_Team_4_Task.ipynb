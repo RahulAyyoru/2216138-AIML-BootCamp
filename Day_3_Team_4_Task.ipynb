{
  "nbformat": 4,
  "nbformat_minor": 0,
  "metadata": {
    "colab": {
      "name": "Day-3 Team-4 Task.ipynb",
      "provenance": [],
      "authorship_tag": "ABX9TyNgpGoa2qwlHXII1ibm2rI3",
      "include_colab_link": true
    },
    "kernelspec": {
      "name": "python3",
      "display_name": "Python 3"
    },
    "language_info": {
      "name": "python"
    }
  },
  "cells": [
    {
      "cell_type": "markdown",
      "metadata": {
        "id": "view-in-github",
        "colab_type": "text"
      },
      "source": [
        "<a href=\"https://colab.research.google.com/github/RahulAyyoru/2216138-AIMLBootCamp/blob/main/Day_3_Team_4_Task.ipynb\" target=\"_parent\"><img src=\"https://colab.research.google.com/assets/colab-badge.svg\" alt=\"Open In Colab\"/></a>"
      ]
    },
    {
      "cell_type": "code",
      "execution_count": 50,
      "metadata": {
        "id": "f9nxUoXMLGX1",
        "colab": {
          "base_uri": "https://localhost:8080/"
        },
        "outputId": "57a44c2e-23a4-498e-b97f-736dcd3a46ff"
      },
      "outputs": [
        {
          "output_type": "stream",
          "name": "stdout",
          "text": [
            "1 3 5 7 9 "
          ]
        }
      ],
      "source": [
        "#Task Team-4\n",
        "f=open('task.txt','w+')\n",
        "f.write(\"123456789\")\n",
        "f.seek(0)\n",
        "data=f.read()\n",
        "f.close()\n",
        "for i in range(len(data)):\n",
        "    if i%2==0:\n",
        "        print(data[i],end=' ')"
      ]
    }
  ]
}