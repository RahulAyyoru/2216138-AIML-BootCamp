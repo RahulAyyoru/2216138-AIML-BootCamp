{
  "nbformat": 4,
  "nbformat_minor": 0,
  "metadata": {
    "colab": {
      "name": "Day 3.ipynb",
      "provenance": [],
      "authorship_tag": "ABX9TyOw3jIdAPIadHnukwYB2BcC",
      "include_colab_link": true
    },
    "kernelspec": {
      "name": "python3",
      "display_name": "Python 3"
    },
    "language_info": {
      "name": "python"
    }
  },
  "cells": [
    {
      "cell_type": "markdown",
      "metadata": {
        "id": "view-in-github",
        "colab_type": "text"
      },
      "source": [
        "<a href=\"https://colab.research.google.com/github/RahulAyyoru/2216138-AIMLBootCamp/blob/main/Day_3.ipynb\" target=\"_parent\"><img src=\"https://colab.research.google.com/assets/colab-badge.svg\" alt=\"Open In Colab\"/></a>"
      ]
    },
    {
      "cell_type": "code",
      "execution_count": null,
      "metadata": {
        "colab": {
          "base_uri": "https://localhost:8080/"
        },
        "id": "PiXhYb6TC9q4",
        "outputId": "963cce03-8d54-4988-ef14-c01a2a331f17"
      },
      "outputs": [
        {
          "output_type": "stream",
          "name": "stdout",
          "text": [
            "Addition of 2 no.s= 9\n",
            "Subraction of 2 no.s= -7\n"
          ]
        }
      ],
      "source": [
        "#class & object\n",
        "class CO:\n",
        "  def subn(self,a,b):\n",
        "    return a-b\n",
        "  def addn(self,a,b):\n",
        "    return a+b\n",
        "obj=CO()\n",
        "print('Addition of 2 no.s=',obj.addn(1,8))\n",
        "print('Subraction of 2 no.s=',obj.subn(1,8))"
      ]
    },
    {
      "cell_type": "code",
      "source": [
        "class cal:\n",
        "  def subn(self,a,b):\n",
        "    return a-b\n",
        "  def addn(self,a,b):\n",
        "    return a+b\n",
        "  def mul(self,a,b):\n",
        "    return a*b\n",
        "  def div(self,a,b):\n",
        "    return a//b\n",
        "  def pow(self,a,b):\n",
        "    return a**b\n",
        "  def mod(self,a,b):\n",
        "    return a%b\n",
        "\n",
        "obj=cal()\n",
        "\n",
        "print('Addition of 2 no.s=',obj.addn(1,8))\n",
        "print('Subraction of 2 no.s=',obj.subn(1,8)) \n",
        "print('MUl of 2 no.s=',obj.mul(1,8))\n",
        "print('Division of 2 no.s=',obj.div(3,2))\n",
        "print('Power=',obj.pow(2,3))\n",
        "print('Modulus of 2 no.s=',obj.mod(1,8))"
      ],
      "metadata": {
        "colab": {
          "base_uri": "https://localhost:8080/"
        },
        "id": "sBVt5Hb5GR6_",
        "outputId": "e76be634-bee7-48ac-e022-e75c1b3eb711"
      },
      "execution_count": null,
      "outputs": [
        {
          "output_type": "stream",
          "name": "stdout",
          "text": [
            "Addition of 2 no.s= 9\n",
            "Subraction of 2 no.s= -7\n",
            "MUl of 2 no.s= 8\n",
            "Division of 2 no.s= 1\n",
            "Power= 8\n",
            "Modulus of 2 no.s= 1\n"
          ]
        }
      ]
    },
    {
      "cell_type": "markdown",
      "source": [
        "Inheritance"
      ],
      "metadata": {
        "id": "ivS12Y_2H197"
      }
    },
    {
      "cell_type": "code",
      "source": [
        "class animal:\n",
        "  def animal_sounds(self):\n",
        "    return \"makes spund\"\n",
        "class cat(animal):\n",
        "  def cat_sound(self):\n",
        "    return self.animal_sounds()+\" MEOW\"\n",
        "  def __str__(self):\n",
        "    return \"CAT\"\n",
        "\n",
        "class dog(animal):\n",
        "  def dog_sound(self):\n",
        "    return self.animal_sounds()+\" BOW\"\n",
        "  def __str__(self):\n",
        "    return \"DOG\"  \n",
        "\n",
        "catobj=cat()\n",
        "print(catobj,catobj.cat_sound())\n",
        "dogobj=dog()\n",
        "print(dogobj,dogobj.dog_sound())\n",
        "\n"
      ],
      "metadata": {
        "colab": {
          "base_uri": "https://localhost:8080/"
        },
        "id": "4E0Oyd7VHztm",
        "outputId": "19da7819-1a9c-443c-f1cb-4f824f7d03ed"
      },
      "execution_count": null,
      "outputs": [
        {
          "output_type": "stream",
          "name": "stdout",
          "text": [
            "CAT makes spund MEOW\n",
            "DOG makes spund BOW\n"
          ]
        }
      ]
    },
    {
      "cell_type": "markdown",
      "source": [
        "Multilevel Inheritance"
      ],
      "metadata": {
        "id": "SGXh-0rVJn8E"
      }
    },
    {
      "cell_type": "code",
      "source": [
        "class animal:\n",
        "  def animal_sounds(self):\n",
        "    return \"makes spund\"\n",
        "\n",
        "class cat(animal):\n",
        "  def cat_sound(self):\n",
        "    return self.animal_sounds()+\" MEOW\"\n",
        "class catcolor(cat):\n",
        "    def __str__(self):\n",
        "      return \"CAT\"\n",
        "    def color(self):\n",
        "      return \"Color is BLACK\"\n",
        "\n",
        "class dog(animal):\n",
        "  def dog_sound(self):\n",
        "    return self.animal_sounds()+\" BOW\"\n",
        "  def __str__(self):\n",
        "    return \"DOG\"\n",
        "  def color(self):\n",
        "    return \"Color is WHITE\"\n",
        "class dogcolor(dog):\n",
        "  def animal_sounds(self):\n",
        "    return \"makes spund\"\n",
        "\n",
        "catobj=catcolor()\n",
        "print(catobj,catobj.cat_sound())\n",
        "print(catobj,catobj.color())\n",
        "\n",
        "dogobj=dogcolor()\n",
        "print(dogobj,dogobj.dog_sound())\n",
        "print(dogobj,dogobj.color())\n",
        "\n"
      ],
      "metadata": {
        "colab": {
          "base_uri": "https://localhost:8080/"
        },
        "id": "FdIq7XZWH4L5",
        "outputId": "80328737-a19e-4a29-8cdd-9ddfcc211551"
      },
      "execution_count": null,
      "outputs": [
        {
          "output_type": "stream",
          "name": "stdout",
          "text": [
            "CAT makes spund MEOW\n",
            "CAT Color is BLACK\n",
            "DOG makes spund BOW\n",
            "DOG Color is WHITE\n"
          ]
        }
      ]
    },
    {
      "cell_type": "markdown",
      "source": [
        "Exceptional Handling"
      ],
      "metadata": {
        "id": "QXG_Xq56MMC1"
      }
    },
    {
      "cell_type": "code",
      "source": [
        "#name\n",
        "try:\n",
        "  print(x)\n",
        "except NameError as ne: #NameError = keyword\n",
        "  print(\"Exception occured\",ne)\n",
        "print(\"Executed\")"
      ],
      "metadata": {
        "colab": {
          "base_uri": "https://localhost:8080/"
        },
        "id": "M-DkTC3vMPLx",
        "outputId": "a27bad9d-3615-4359-9e04-b9fa19eb3126"
      },
      "execution_count": null,
      "outputs": [
        {
          "output_type": "stream",
          "name": "stdout",
          "text": [
            "Exception occured name 'x' is not defined\n",
            "Executed\n"
          ]
        }
      ]
    },
    {
      "cell_type": "code",
      "source": [
        "#value error\n",
        "a='25 xyz'\n",
        "try:\n",
        "  print(int(a))\n",
        "except ValueError as e:\n",
        "  print(e)"
      ],
      "metadata": {
        "colab": {
          "base_uri": "https://localhost:8080/"
        },
        "id": "7s8b6ZmLMuqv",
        "outputId": "a9c9f419-4628-4778-f15f-c5a609a70143"
      },
      "execution_count": null,
      "outputs": [
        {
          "output_type": "stream",
          "name": "stdout",
          "text": [
            "invalid literal for int() with base 10: '25 xyz'\n"
          ]
        }
      ]
    },
    {
      "cell_type": "code",
      "source": [
        "#2003\n",
        "class INVALIDSTUDENTID(Exception):\n",
        "  pass\n",
        "stid=input(\"Enter student id\")\n",
        "try:\n",
        "  if stid[:4]!='2003':\n",
        "    raise INVALIDSTUDENTID\n",
        "except INVALIDSTUDENTID:\n",
        "  print(\"Error raised due to invalid details\")\n",
        "print(\"Details verified\")"
      ],
      "metadata": {
        "colab": {
          "base_uri": "https://localhost:8080/"
        },
        "id": "5i21brjNNOPM",
        "outputId": "27100048-df55-4b09-f3b0-5ffc7a8e4ba1"
      },
      "execution_count": null,
      "outputs": [
        {
          "output_type": "stream",
          "name": "stdout",
          "text": [
            "Enter student id18k2\n",
            "Error raised due to invalid details\n",
            "Details verified\n"
          ]
        }
      ]
    },
    {
      "cell_type": "code",
      "source": [
        "class INVALIDSTUDENTID(Exception):\n",
        "  def __self__(self):\n",
        "    return \"Error Raised\"\n",
        "stid=input(\"Enter student id\")\n",
        "try:\n",
        "  if stid[:4]!='2003':\n",
        "    raise INVALIDSTUDENTID\n",
        "except INVALIDSTUDENTID:\n",
        "  print(\"Invalid\")\n",
        "print(\"Details verified\")"
      ],
      "metadata": {
        "colab": {
          "base_uri": "https://localhost:8080/"
        },
        "id": "X3fEVmyyO4Qk",
        "outputId": "a5ac3ff9-5dbb-4cae-f89c-a7705091a9dc"
      },
      "execution_count": null,
      "outputs": [
        {
          "output_type": "stream",
          "name": "stdout",
          "text": [
            "Enter student id1234\n",
            "Invalid\n",
            "Details verified\n"
          ]
        }
      ]
    },
    {
      "cell_type": "code",
      "source": [
        "class NotEligible(Exception):\n",
        "  def __self__(self):\n",
        "    return \"Error raised\"\n",
        "    \n",
        "age=int(input(\"Enter your age: \"))\n",
        "try:\n",
        "  if age<18:\n",
        "    raise NotEligible\n",
        "except NotEligible:\n",
        "  print(\"NOT Eligible for Voting\")"
      ],
      "metadata": {
        "colab": {
          "base_uri": "https://localhost:8080/"
        },
        "id": "wIgBNvGoPgcs",
        "outputId": "267ef314-1b07-4c30-c03b-b416eec212c1"
      },
      "execution_count": null,
      "outputs": [
        {
          "output_type": "stream",
          "name": "stdout",
          "text": [
            "Enter your age: 2\n",
            "NOT Eligible for Voting\n"
          ]
        }
      ]
    },
    {
      "cell_type": "markdown",
      "source": [
        "File Handling"
      ],
      "metadata": {
        "id": "2NOIovLfiEAk"
      }
    },
    {
      "cell_type": "code",
      "source": [
        "f=open(\"sample.txt\",\"w\")"
      ],
      "metadata": {
        "id": "W0wQ3YVLh9g8"
      },
      "execution_count": null,
      "outputs": []
    },
    {
      "cell_type": "code",
      "source": [
        "f=open(\"sample.txt\",\"w\")\n",
        "f.write(\"WELCOME\")\n",
        "f.close()"
      ],
      "metadata": {
        "id": "c1OJjiUkicrt"
      },
      "execution_count": null,
      "outputs": []
    },
    {
      "cell_type": "code",
      "source": [
        "f=open(\"sample.txt\",\"r\")\n",
        "print(f.read())\n",
        "f.close()"
      ],
      "metadata": {
        "colab": {
          "base_uri": "https://localhost:8080/"
        },
        "id": "2T7SSr65ipTD",
        "outputId": "96b868a5-7740-4b32-bca7-8bef8fbb9632"
      },
      "execution_count": null,
      "outputs": [
        {
          "output_type": "stream",
          "name": "stdout",
          "text": [
            "WELCOME\n"
          ]
        }
      ]
    },
    {
      "cell_type": "code",
      "source": [
        "f=open(\"sample.txt\",\"r\")\n",
        "print(f.read(3))\n",
        "print(f.tell())\n",
        "print(f.seek(2))\n",
        "print(f.seek(0))\n",
        "print(f.readline())\n",
        "print(f.readlines())\n",
        "f.close()"
      ],
      "metadata": {
        "colab": {
          "base_uri": "https://localhost:8080/"
        },
        "id": "ueBHokrKjT4X",
        "outputId": "a20e0a37-53b8-4603-9ecc-42066fd9a6bd"
      },
      "execution_count": null,
      "outputs": [
        {
          "output_type": "stream",
          "name": "stdout",
          "text": [
            "WEL\n",
            "3\n",
            "2\n",
            "0\n",
            "WELCOME\n",
            "[]\n"
          ]
        }
      ]
    },
    {
      "cell_type": "code",
      "source": [
        "f1=open(\"sample1.txt\",\"w+\")\n",
        "f1.write(\"123456789\")\n",
        "f1.read()\n",
        "for i in f1:\n",
        "  while(i!=''):\n",
        "    if(i%2!=0):\n",
        "      print(i)\n",
        "\n",
        "f1.close()"
      ],
      "metadata": {
        "id": "6bxmb1gekFip"
      },
      "execution_count": null,
      "outputs": []
    },
    {
      "cell_type": "code",
      "source": [
        "#pickle\n",
        "#pickling\n",
        "import pickle\n",
        "mylist=['a','b','c','d']\n",
        "f3=open(\"datafile1.txt\",\"wb\")  # with open(\"datafile2.txt\",\"wb\") as f3:\n",
        "pickle.dump(mylist,f3)\n",
        "f3.close()\n",
        "\n",
        "#unpickling\n",
        "import pickle\n",
        "pickle_off=open(\"datafile1.txt\",\"rb\")\n",
        "e=pickle.load(pickle_off)\n",
        "print(e)"
      ],
      "metadata": {
        "colab": {
          "base_uri": "https://localhost:8080/"
        },
        "id": "Ddh8G7onnsN0",
        "outputId": "284ebcf7-1117-4895-f78e-b0240044ec1b"
      },
      "execution_count": null,
      "outputs": [
        {
          "output_type": "stream",
          "name": "stdout",
          "text": [
            "['a', 'b', 'c', 'd']\n"
          ]
        }
      ]
    },
    {
      "cell_type": "markdown",
      "source": [
        "Regular Expression"
      ],
      "metadata": {
        "id": "ZtaRg9hMpIRa"
      }
    },
    {
      "cell_type": "code",
      "source": [
        "import re\n",
        "pattern=r\"COOKIE\"\n",
        "sequence=(\"COOKIE\")\n",
        "if re.match(pattern,sequence):\n",
        "  print(\"MATCHING\")\n",
        "else:\n",
        "  print(\"NOT MATCHING\")"
      ],
      "metadata": {
        "colab": {
          "base_uri": "https://localhost:8080/"
        },
        "id": "5TVOavFto0Po",
        "outputId": "4820fea8-41fd-4526-cd64-928a71179abf"
      },
      "execution_count": null,
      "outputs": [
        {
          "output_type": "stream",
          "name": "stdout",
          "text": [
            "MATCHING\n"
          ]
        }
      ]
    },
    {
      "cell_type": "code",
      "source": [
        "import re\n",
        "ph_no=input(\"Enter ur ph_no: \")\n",
        "print(re.search(r'\\d{10}',ph_no).group())"
      ],
      "metadata": {
        "colab": {
          "base_uri": "https://localhost:8080/"
        },
        "id": "cOLqWvYeprmJ",
        "outputId": "bcfa05df-ff14-44d2-c26b-e1b06cd69a1f"
      },
      "execution_count": null,
      "outputs": [
        {
          "output_type": "stream",
          "name": "stdout",
          "text": [
            "Enter ur ph_no: 9949998481\n",
            "9949998481\n"
          ]
        }
      ]
    },
    {
      "cell_type": "code",
      "source": [
        "import re\n",
        "mail=input(\"Emter mail:\")\n",
        "str1=r'[A-Za-z0-9.-_]+@[A-Za-z0-9.-]+[A-Z|a-z]'\n",
        "print(re.search(str1,mail).group())"
      ],
      "metadata": {
        "colab": {
          "base_uri": "https://localhost:8080/"
        },
        "id": "raHNzJouqarE",
        "outputId": "cc4cf8e3-dca2-49fa-a157-b9454c3aee40"
      },
      "execution_count": 1,
      "outputs": [
        {
          "output_type": "stream",
          "name": "stdout",
          "text": [
            "Emter mail:rahulayyoru111@gmail.com\n",
            "rahulayyoru111@gmail.com\n"
          ]
        }
      ]
    }
  ]
}