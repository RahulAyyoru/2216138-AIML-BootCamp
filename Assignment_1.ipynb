{
  "nbformat": 4,
  "nbformat_minor": 0,
  "metadata": {
    "colab": {
      "name": "Assignment 1.ipynb",
      "provenance": [],
      "collapsed_sections": [],
      "authorship_tag": "ABX9TyN4X0IaYm/jXN/0woEY6AUQ",
      "include_colab_link": true
    },
    "kernelspec": {
      "name": "python3",
      "display_name": "Python 3"
    },
    "language_info": {
      "name": "python"
    }
  },
  "cells": [
    {
      "cell_type": "markdown",
      "metadata": {
        "id": "view-in-github",
        "colab_type": "text"
      },
      "source": [
        "<a href=\"https://colab.research.google.com/github/RahulAyyoru/2216138-AIMLBootCamp/blob/main/Assignment_1.ipynb\" target=\"_parent\"><img src=\"https://colab.research.google.com/assets/colab-badge.svg\" alt=\"Open In Colab\"/></a>"
      ]
    },
    {
      "cell_type": "code",
      "execution_count": 1,
      "metadata": {
        "colab": {
          "base_uri": "https://localhost:8080/"
        },
        "id": "u1jBxGkZHzyc",
        "outputId": "ed642f7e-5e2b-4290-9bbc-e08077dc1d25"
      },
      "outputs": [
        {
          "output_type": "stream",
          "name": "stdout",
          "text": [
            "RAHUL IS A GOOD BOY \n",
            "rahul is a good boy \n",
            "Rahul Is A Good Boy \n",
            "Rahul is a good boy \n",
            "rahul\n",
            "rahulaaaa\n",
            "aaaaarahul\n",
            "10\n",
            "False\n",
            "False\n"
          ]
        }
      ],
      "source": [
        "str1='Rahul is a good boy '\n",
        "print(str1.upper())\n",
        "\n",
        "print(str1.lower())\n",
        "\n",
        "print(str1.title())\n",
        "\n",
        "print(str1.capitalize())\n",
        "\n",
        "#strip\n",
        "s='aaaaarahulaaaa'\n",
        "print(s.strip('a'))\n",
        "print(s.lstrip('a'))\n",
        "print(s.rstrip('a'))\n",
        "\n",
        "#count\n",
        "print(s.count('a'))\n",
        "\n",
        "\n",
        "k=str1.isalnum()\n",
        "print(k)\n",
        "k=str1.isalpha()\n",
        "print(k)"
      ]
    },
    {
      "cell_type": "code",
      "source": [
        "l=[1,2,3,'rahul','apple']\n",
        "print(l)\n",
        "#methods of adding an elements into the list\n",
        "l.append(2.3)\n",
        "print(l)\n",
        "\n",
        "l.insert(2,9.5)\n",
        "print(l)\n",
        "\n",
        "l.extend([4,5,6])\n",
        "print(l)\n",
        "#Methods to delete the list elements\n",
        "l.pop()\n",
        "print(l)\n",
        "l.pop(0)\n",
        "print(l)\n",
        "l.remove(3)\n",
        "print(l)\n",
        "\n",
        "#reversing\n",
        "l.reverse()\n",
        "print(l)\n",
        "\n",
        "#index\n",
        "print(l.index('rahul'))\n",
        "l.clear()\n",
        "print(l)"
      ],
      "metadata": {
        "colab": {
          "base_uri": "https://localhost:8080/"
        },
        "id": "lv7G4vWrH96Z",
        "outputId": "ce190d58-eb5d-45c0-b5a1-9bee5cdced34"
      },
      "execution_count": 2,
      "outputs": [
        {
          "output_type": "stream",
          "name": "stdout",
          "text": [
            "[1, 2, 3, 'rahul', 'apple']\n",
            "[1, 2, 3, 'rahul', 'apple', 2.3]\n",
            "[1, 2, 9.5, 3, 'rahul', 'apple', 2.3]\n",
            "[1, 2, 9.5, 3, 'rahul', 'apple', 2.3, 4, 5, 6]\n",
            "[1, 2, 9.5, 3, 'rahul', 'apple', 2.3, 4, 5]\n",
            "[2, 9.5, 3, 'rahul', 'apple', 2.3, 4, 5]\n",
            "[2, 9.5, 'rahul', 'apple', 2.3, 4, 5]\n",
            "[5, 4, 2.3, 'apple', 'rahul', 9.5, 2]\n",
            "4\n",
            "[]\n"
          ]
        }
      ]
    },
    {
      "cell_type": "code",
      "source": [
        "t=(1,2,3,'rahul',1,1,2.5)\n",
        "print(t)\n",
        "print('The value 1 is repeated',t.count(1),'times in the tuple')\n",
        "print('The index of value rahul is :',t.index('rahul'))\n"
      ],
      "metadata": {
        "colab": {
          "base_uri": "https://localhost:8080/"
        },
        "id": "EQyS_TPGIDcq",
        "outputId": "eac3e94c-f3c6-4056-a20a-5e65cf42e4d2"
      },
      "execution_count": 3,
      "outputs": [
        {
          "output_type": "stream",
          "name": "stdout",
          "text": [
            "(1, 2, 3, 'rahul', 1, 1, 2.5)\n",
            "The value 1 is repeated 3 times in the tuple\n",
            "The index of value rahul is : 3\n"
          ]
        }
      ]
    },
    {
      "cell_type": "code",
      "source": [
        "bd={'name':'rahul','age':20,'phnno':9898989898}\n",
        "print(bd)\n",
        "\n",
        "print(bd.keys())\n",
        "\n",
        "print(bd.values())\n",
        "\n",
        "bd.pop('name')\n",
        "print(bd)\n",
        "\n",
        "bd.popitem()\n",
        "print(bd)\n",
        "x=bd.copy()\n",
        "print(x)\n",
        "\n",
        "x.update({'address':'Hyderabad'})\n",
        "print(x)\n",
        "\n",
        "print(x.items())\n",
        "\n",
        "x.clear()\n",
        "print(x)"
      ],
      "metadata": {
        "colab": {
          "base_uri": "https://localhost:8080/"
        },
        "id": "JKz0iBgQIPhi",
        "outputId": "8222820f-4482-4065-e24c-8323297a9f69"
      },
      "execution_count": 5,
      "outputs": [
        {
          "output_type": "stream",
          "name": "stdout",
          "text": [
            "{'name': 'rahul', 'age': 20, 'phnno': 9898989898}\n",
            "dict_keys(['name', 'age', 'phnno'])\n",
            "dict_values(['rahul', 20, 9898989898])\n",
            "{'age': 20, 'phnno': 9898989898}\n",
            "{'age': 20}\n",
            "{'age': 20}\n",
            "{'age': 20, 'address': 'Hyderabad'}\n",
            "dict_items([('age', 20), ('address', 'Hyderabad')])\n",
            "{}\n"
          ]
        }
      ]
    },
    {
      "cell_type": "code",
      "source": [
        "s={1,2,3,'rahul',2.5}\n",
        "p={}\n",
        "print(s)\n",
        "s.add(4)\n",
        "print(s)\n",
        "l=(3,5.6,'rahul')\n",
        "print(s.union(l))\n",
        "\n",
        "print(s.intersection(l))\n",
        "\n",
        "print(s.difference(l))\n",
        "\n",
        "s.remove('rahul')\n",
        "\n",
        "s.update({25,'rahul'})\n",
        "\n",
        "p=s.copy\n",
        "print(p)\n"
      ],
      "metadata": {
        "colab": {
          "base_uri": "https://localhost:8080/"
        },
        "id": "0NftUUZWIZy2",
        "outputId": "94210a08-077b-4075-e3b8-37c00c7675d8"
      },
      "execution_count": 6,
      "outputs": [
        {
          "output_type": "stream",
          "name": "stdout",
          "text": [
            "{1, 2.5, 2, 3, 'rahul'}\n",
            "{1, 2.5, 2, 3, 4, 'rahul'}\n",
            "{1, 2.5, 2, 3, 4, 5.6, 'rahul'}\n",
            "{3, 'rahul'}\n",
            "{1, 2.5, 2, 4}\n",
            "<built-in method copy of set object at 0x7fce70f64aa0>\n"
          ]
        }
      ]
    },
    {
      "cell_type": "code",
      "source": [
        "k=25\n",
        "print(bin(k))\n",
        "print(oct(k))\n",
        "print(hex(k))"
      ],
      "metadata": {
        "colab": {
          "base_uri": "https://localhost:8080/"
        },
        "id": "K6QoGfovIivU",
        "outputId": "966a4936-a792-44f8-9f68-66e255353ae0"
      },
      "execution_count": 7,
      "outputs": [
        {
          "output_type": "stream",
          "name": "stdout",
          "text": [
            "0b11001\n",
            "0o31\n",
            "0x19\n"
          ]
        }
      ]
    },
    {
      "cell_type": "code",
      "source": [
        "a=int(input('Enter a number'))\n",
        "b=int(input('Enter another number'))\n",
        "#addition\n",
        "print(a+b)\n",
        "#substraction\n",
        "print(a-b)\n",
        "#multiplication\n",
        "print(a*b)\n",
        "#division\n",
        "print(a/b)\n",
        "#floor divisoin\n",
        "print(a//b)\n",
        "#power\n",
        "print(a**3)"
      ],
      "metadata": {
        "colab": {
          "base_uri": "https://localhost:8080/"
        },
        "id": "sXCFjK9nIpaQ",
        "outputId": "0fef27e6-b812-4ba5-a223-c354f3c18c7d"
      },
      "execution_count": 8,
      "outputs": [
        {
          "output_type": "stream",
          "name": "stdout",
          "text": [
            "Enter a number10\n",
            "Enter another number9\n",
            "19\n",
            "1\n",
            "90\n",
            "1.1111111111111112\n",
            "1\n",
            "1000\n"
          ]
        }
      ]
    },
    {
      "cell_type": "code",
      "source": [
        "a=10\n",
        "b=20\n",
        "print('a , b')\n",
        "print(a,b)\n",
        "a+=b\n",
        "print(a,b)\n",
        "a-=b\n",
        "print(a,b)\n",
        "a*=b\n",
        "print(a,b)\n",
        "a/=b\n",
        "print(a,b)\n",
        "a//=b\n",
        "print(a,b)\n",
        "\n"
      ],
      "metadata": {
        "colab": {
          "base_uri": "https://localhost:8080/"
        },
        "id": "FcLG_IGaIvCW",
        "outputId": "24e84baf-6c61-4a0c-de8a-8b046e3184cc"
      },
      "execution_count": 9,
      "outputs": [
        {
          "output_type": "stream",
          "name": "stdout",
          "text": [
            "a , b\n",
            "10 20\n",
            "30 20\n",
            "10 20\n",
            "200 20\n",
            "10.0 20\n",
            "0.0 20\n"
          ]
        }
      ]
    },
    {
      "cell_type": "code",
      "source": [
        "a=10\n",
        "b=20\n",
        "print(a>b)\n",
        "print(a<b)\n",
        "print(a>=b)\n",
        "print(a<=b)\n",
        "print(a!=b)\n"
      ],
      "metadata": {
        "colab": {
          "base_uri": "https://localhost:8080/"
        },
        "id": "5fKSgFvJI1qN",
        "outputId": "ac52ce0a-952b-4d1f-9e87-9ac227e2ecef"
      },
      "execution_count": 10,
      "outputs": [
        {
          "output_type": "stream",
          "name": "stdout",
          "text": [
            "False\n",
            "True\n",
            "False\n",
            "True\n",
            "True\n"
          ]
        }
      ]
    },
    {
      "cell_type": "code",
      "source": [
        "a,b=10,20\n",
        "print(a>b and b>a)\n",
        "print(a>b or b>a)\n",
        "print(not (a>b))"
      ],
      "metadata": {
        "colab": {
          "base_uri": "https://localhost:8080/"
        },
        "id": "KY91n4H2I4qf",
        "outputId": "c7f5b85f-9ecf-4633-aea9-172ec1cfe11a"
      },
      "execution_count": 11,
      "outputs": [
        {
          "output_type": "stream",
          "name": "stdout",
          "text": [
            "False\n",
            "True\n",
            "True\n"
          ]
        }
      ]
    },
    {
      "cell_type": "code",
      "source": [
        "a=2\n",
        "b=3\n",
        "print(a&b)\n",
        "print(a|b)\n",
        "print(~a)\n",
        "print(a<<2)\n",
        "print(b>>3)"
      ],
      "metadata": {
        "colab": {
          "base_uri": "https://localhost:8080/"
        },
        "id": "HVL4USQKI786",
        "outputId": "ce45a5f1-983b-4f51-e99b-6bd22dfbde55"
      },
      "execution_count": 12,
      "outputs": [
        {
          "output_type": "stream",
          "name": "stdout",
          "text": [
            "2\n",
            "3\n",
            "-3\n",
            "8\n",
            "0\n"
          ]
        }
      ]
    },
    {
      "cell_type": "code",
      "source": [
        "s='Gradstellar'\n",
        "print('a' in s)\n",
        "print('c' not in s)"
      ],
      "metadata": {
        "colab": {
          "base_uri": "https://localhost:8080/"
        },
        "id": "lYeuL3S9I_Nf",
        "outputId": "ec9bd3a1-7dad-4e72-e722-a0dfe1c68a10"
      },
      "execution_count": 13,
      "outputs": [
        {
          "output_type": "stream",
          "name": "stdout",
          "text": [
            "True\n",
            "True\n"
          ]
        }
      ]
    },
    {
      "cell_type": "code",
      "source": [
        "a=10\n",
        "b=20\n",
        "print(a is b)\n",
        "print(a is not b)"
      ],
      "metadata": {
        "colab": {
          "base_uri": "https://localhost:8080/"
        },
        "id": "Z82NQk8eJBEu",
        "outputId": "427435da-70c0-4dac-e406-1d471a39797f"
      },
      "execution_count": 14,
      "outputs": [
        {
          "output_type": "stream",
          "name": "stdout",
          "text": [
            "False\n",
            "True\n"
          ]
        }
      ]
    },
    {
      "cell_type": "code",
      "source": [
        "l=[1,2,3,4]\n",
        "print(l[-1])\n",
        "print(l[-1::-1])\n",
        "print(l[:])\n",
        "print(l[0:])\n",
        "print(l[1:3:1])\n"
      ],
      "metadata": {
        "colab": {
          "base_uri": "https://localhost:8080/"
        },
        "id": "3wVZtBAeJFQ_",
        "outputId": "0330ec5d-5eae-4794-c187-736a21f61f53"
      },
      "execution_count": 15,
      "outputs": [
        {
          "output_type": "stream",
          "name": "stdout",
          "text": [
            "4\n",
            "[4, 3, 2, 1]\n",
            "[1, 2, 3, 4]\n",
            "[1, 2, 3, 4]\n",
            "[2, 3]\n"
          ]
        }
      ]
    },
    {
      "cell_type": "code",
      "source": [
        "print('A series of characters designated as one object known as a string'[::-1][4::3])\n",
        "print(\"..............\")\n",
        "print('Welcome to python traing program'[3:10][::-1])"
      ],
      "metadata": {
        "colab": {
          "base_uri": "https://localhost:8080/"
        },
        "id": "k4k13amaJJbm",
        "outputId": "78a5f542-c97d-4ed6-b23c-b8a390fc77c2"
      },
      "execution_count": 17,
      "outputs": [
        {
          "output_type": "stream",
          "name": "stdout",
          "text": [
            "taawkcbe  tgestrcoeeA\n",
            "..............\n",
            "ot emoc\n"
          ]
        }
      ]
    },
    {
      "cell_type": "code",
      "source": [
        "s=\"was it a car or a cat I saw\"\n",
        "k=s[::-1]\n",
        "print(k.upper())"
      ],
      "metadata": {
        "colab": {
          "base_uri": "https://localhost:8080/"
        },
        "id": "Q-_YZwOXJJOR",
        "outputId": "3f2f875c-55fb-4b90-95e4-febbe5099795"
      },
      "execution_count": 18,
      "outputs": [
        {
          "output_type": "stream",
          "name": "stdout",
          "text": [
            "WAS I TAC A RO RAC A TI SAW\n"
          ]
        }
      ]
    },
    {
      "cell_type": "code",
      "source": [
        "x='z'\n",
        "y='o'\n",
        "x1=int(input('Enter how many times u want z'))\n",
        "y1=2*x1\n",
        "for i in range(0,x1):\n",
        "  print(x,end='')\n",
        "for i in range(0,y1):\n",
        "  print(y,end='')\n"
      ],
      "metadata": {
        "colab": {
          "base_uri": "https://localhost:8080/"
        },
        "id": "WoZEfkCYJI48",
        "outputId": "71b5ea54-ff11-4af4-80e0-e8f7ad58e4da"
      },
      "execution_count": 19,
      "outputs": [
        {
          "output_type": "stream",
          "name": "stdout",
          "text": [
            "Enter how many times u want z4\n",
            "zzzzoooooooo"
          ]
        }
      ]
    },
    {
      "cell_type": "code",
      "source": [
        ""
      ],
      "metadata": {
        "id": "y3Gmb-uuJU5_"
      },
      "execution_count": null,
      "outputs": []
    },
    {
      "cell_type": "code",
      "source": [
        ""
      ],
      "metadata": {
        "id": "ArYfY9hlJU2Z"
      },
      "execution_count": null,
      "outputs": []
    },
    {
      "cell_type": "code",
      "source": [
        ""
      ],
      "metadata": {
        "id": "MPOBDPfZJU0G"
      },
      "execution_count": null,
      "outputs": []
    }
  ]
}